{
 "cells": [
  {
   "cell_type": "markdown",
   "metadata": {},
   "source": [
    "# OpenCV Tutorial: A Guide to Learn OpenCV\n",
    "\n",
    "This OpenCV tutorial is for beginners just getting started learning the basics. Inside this guide, you’ll learn basic image processing operations using the OpenCV library using Python."
   ]
  },
  {
   "cell_type": "markdown",
   "metadata": {},
   "source": [
    "# Loading and Displaying an image"
   ]
  },
  {
   "cell_type": "code",
   "execution_count": 1,
   "metadata": {},
   "outputs": [],
   "source": [
    "# Import the necessary packages\n",
    "import cv2\n",
    "import imutils"
   ]
  },
  {
   "cell_type": "code",
   "execution_count": 2,
   "metadata": {},
   "outputs": [
    {
     "name": "stdout",
     "output_type": "stream",
     "text": [
      "width = 600, height = 322, depth = 3\n"
     ]
    }
   ],
   "source": [
    "# load the input image and show its dimensions, keeping in mind \n",
    "# that images are represented as a multi-dimensional Numpy array\n",
    "# with shape no. rows (height) X no. columns (width) X no. channels (depth)\n",
    "image = cv2.imread('jp.png')\n",
    "(h, w, d) = image.shape\n",
    "print(\"width = {}, height = {}, depth = {}\".format(w, h, d))"
   ]
  },
  {
   "cell_type": "code",
   "execution_count": 3,
   "metadata": {},
   "outputs": [],
   "source": [
    "# display the image \n",
    "\n",
    "cv2.imshow(\"Image\", image)\n",
    "cv2.waitKey(0)\n",
    "cv2.destroyAllWindows()        "
   ]
  },
  {
   "cell_type": "markdown",
   "metadata": {},
   "source": [
    "## Accessing individual pixels\n",
    "\n",
    "**What is `Pixel` :** All images consist of pixels which are the raw building blocks of images. Images are made of pixels in a grid. A 640 x 480 image has 640 columns (the width) and 480 rows (the height). There are 640 * 480 = 307200  pixels in an image with those dimensions.\n",
    "\n",
    "\n",
    "In OpenCV color images in the RGB (Red, Green, Blue) color space have a 3-tuple associated with each pixel: `(B, G, R)`\n",
    "\n",
    "Notice the ordering is `BGR` rather than `RGB`. This is because when OpenCV was first being developed many years ago the standard was BGR ordering. Over the years, the standard has now become RGB but OpenCV still maintains this “legacy” BGR ordering to ensure no existing code breaks.\n",
    "\n",
    "Each value in the BGR 3-tuple has a range of `[0, 255]` . How many color possibilities are there for each pixel in an RGB image in OpenCV? That’s easy: `256 * 256 * 256 = 16777216 `."
   ]
  },
  {
   "cell_type": "code",
   "execution_count": 4,
   "metadata": {},
   "outputs": [
    {
     "name": "stdout",
     "output_type": "stream",
     "text": [
      "R = 41, G = 49, B = 37\n"
     ]
    }
   ],
   "source": [
    "# access the RGB pixel\n",
    "(B, G, R) = image[100, 50]\n",
    "print(\"R = {}, G = {}, B = {}\".format(R, G, B))"
   ]
  },
  {
   "cell_type": "markdown",
   "metadata": {},
   "source": [
    "## Array slicing and cropping\n",
    "\n",
    "Extracting ***“regions of interest” (ROIs)*** is an important skill for image processing\n",
    "\n",
    "Say, for example, you’re working on recognizing faces in a movie. First, you’d run a face detection algorithm to find the coordinates of faces in all the frames you’re working with. Then you’d want to extract the face ROIs and either save them or process them. Locating all frames containing Dr. Ian Malcolm in Jurassic Park would be a great face recognition mini-project to work on.\n",
    "\n",
    "***For now, let’s just manually extract an ROI. This can be accomplished with array slicing.***\n",
    "\n",
    "**Array slicing** :  `image[startY:endY, startX:endX]`"
   ]
  },
  {
   "cell_type": "code",
   "execution_count": 5,
   "metadata": {},
   "outputs": [],
   "source": [
    "# extract a 100X100 pixel square ROI from the input image \n",
    "# starting at x=320,y=60 and ending at x=420,y=160\n",
    "\n",
    "roi = image[60:160 , 320:420 ]\n",
    "cv2.imshow(\"ROI\", roi)\n",
    "cv2.waitKey(0)\n",
    "cv2.destroyAllWindows()        "
   ]
  },
  {
   "cell_type": "markdown",
   "metadata": {},
   "source": [
    "## Resizing images\n",
    "\n",
    "Resizing images is important for a number of reasons. First, you might want to resize a large image to fit on your screen. Image processing is also faster on smaller images because there are fewer pixels to process. In the case of deep learning, we often resize images, ignoring aspect ratio, so that the volume fits into a network which requires that an image be square and of a certain dimension.\n",
    "\n",
    "**Let’s resize our original image to 200 x 200 pixels:**"
   ]
  },
  {
   "cell_type": "code",
   "execution_count": 6,
   "metadata": {},
   "outputs": [],
   "source": [
    "# resizing image to 200X200px, ignoring aspect ratio\n",
    "resized = cv2.resize(image, (200, 200))\n",
    "cv2.imshow(\"Fixed Resizing\", resized)\n",
    "cv2.waitKey(0)\n",
    "cv2.destroyAllWindows()"
   ]
  },
  {
   "cell_type": "markdown",
   "metadata": {},
   "source": [
    "Let’s calculate the aspect ratio of the original image and use it to resize an image so that it doesn’t appear squished and distorted:"
   ]
  },
  {
   "cell_type": "code",
   "execution_count": 7,
   "metadata": {},
   "outputs": [],
   "source": [
    "# fixed resizing and distort aspect ratio so let's resize the width\n",
    "# to be 300px but compute the new height based on the aspect ratio\n",
    "\n",
    "r = 300.0 / w\n",
    "dim = (300, int(h * r))\n",
    "resized = cv2.resize(image, dim)\n",
    "cv2.imshow(\"Aspect Ratio Resize\", resized)\n",
    "cv2.waitKey(0)\n",
    "cv2.destroyAllWindows()"
   ]
  },
  {
   "cell_type": "markdown",
   "metadata": {},
   "source": [
    "Feeding `dim`  (our dimensions) into the `cv2.resize`  function, we’ve now obtained a new image named `resized`  which is not distorted"
   ]
  },
  {
   "cell_type": "markdown",
   "metadata": {},
   "source": [
    "**But can we make this process of preserving aspect ratio during resizing even easier?**\n",
    "\n",
    "YES!\n",
    "\n",
    "Computing the aspect ratio each time we want to resize an image is a bit tedious, so I wrapped the code in a function within `imutils` .\n",
    "\n",
    "Here is how you may use `imutils.resize` :\n",
    "\n",
    "All you need to provide is your **target `width`**  or **target `height`**  as a keyword argument "
   ]
  },
  {
   "cell_type": "code",
   "execution_count": 9,
   "metadata": {},
   "outputs": [],
   "source": [
    "# computing aspect ratio using imutils library\n",
    "resized = imutils.resize(image, width = 300)\n",
    "cv2.imshow(\"Imutils Resize\", resized)\n",
    "cv2.waitKey(0)\n",
    "cv2.destroyAllWindows()"
   ]
  },
  {
   "cell_type": "markdown",
   "metadata": {},
   "source": [
    "## Rotating an image\n",
    "\n",
    "Rotating an image with OpenCV about the center point requires three steps:\n",
    "* compute the center point using the image width and height,\n",
    "* compute a rotation matrix with `cv2.getRotationMatrix2D`,\n",
    "* use the rotation matrix to warp the image with `cv2.warpAffine.`\n"
   ]
  },
  {
   "cell_type": "code",
   "execution_count": 10,
   "metadata": {},
   "outputs": [],
   "source": [
    "\n",
    "## Let's rotate an image 45 degrees clockwise using OpenCV by first\n",
    "## computing the image center, then constructing the rotation matrix,\n",
    "## and then finally applying the affine wrap\n",
    "\n",
    "center = (w // 2, h // 2) # // --> No floating pt. values\n",
    "M = cv2.getRotationMatrix2D(center, -45, 1.0)\n",
    "rotated = cv2.warpAffine(image, M, (w, h))\n",
    "cv2.imshow(\"OpenCV Rotation\", rotated)\n",
    "cv2.waitKey(0)\n",
    "cv2.destroyAllWindows()\n"
   ]
  },
  {
   "cell_type": "code",
   "execution_count": 11,
   "metadata": {},
   "outputs": [],
   "source": [
    "# Rotation can also be easily accomplished via imutils with less code\n",
    "\n",
    "rotated = imutils.rotate(image, -45)\n",
    "cv2.imshow(\"Imutils Rotation\", rotated)\n",
    "cv2.waitKey(0)\n",
    "cv2.destroyAllWindows()"
   ]
  },
  {
   "cell_type": "code",
   "execution_count": 12,
   "metadata": {},
   "outputs": [],
   "source": [
    "## OpenCV doesn't \"care\" if our rotated image is clipped after rotation\n",
    "## so we can instead use another imutils convenience function to help\n",
    "## us out..\n",
    "\n",
    "rotated = imutils.rotate_bound(image, 45)\n",
    "cv2.imshow(\"Imutils Bound Rotation\", rotated)\n",
    "cv2.waitKey(0)\n",
    "cv2.destroyAllWindows()"
   ]
  },
  {
   "cell_type": "markdown",
   "metadata": {},
   "source": [
    "### Writng function for `imshow()` to avoid writing same code again"
   ]
  },
  {
   "cell_type": "code",
   "execution_count": 13,
   "metadata": {},
   "outputs": [],
   "source": [
    "def show(image):\n",
    "    cv2.imshow(\"Image\", image)\n",
    "    cv2.waitKey(0)\n",
    "    cv2.destroyAllWindows()\n",
    "    "
   ]
  },
  {
   "cell_type": "markdown",
   "metadata": {},
   "source": [
    "## Smoothing an Image\n",
    "\n",
    "In many image processing pipelines, we must blur an image to reduce high-frequency noise, making it easier for our algorithms to detect and understand the actual contents of the image rather than just noise that will “confuse” our algorithms. Blurring an image is very easy in OpenCV and there are a number of ways to accomplish it."
   ]
  },
  {
   "cell_type": "code",
   "execution_count": 15,
   "metadata": {},
   "outputs": [],
   "source": [
    "# apply a Gaussian blur with a 11*11 kernel to the image to smooth it,\n",
    "# useful when reducing high frequency noise\n",
    "\n",
    "blurred = cv2.GaussianBlur(image, (11,11), 0)\n",
    "show(blurred)"
   ]
  },
  {
   "cell_type": "markdown",
   "metadata": {},
   "source": [
    "## Drawing on an image\n",
    "\n",
    "In this section, we’re going to draw a rectangle, circle, and line on an input image. We’ll also overlay text on an image as well.\n",
    "\n",
    "Before we move on with drawing on an image with OpenCV, take note that ***drawing operations on images are performed in-place***. Therefore at the beginning of each code block, we make a copy of the original image storing the copy as `output` . We then proceed to draw on the image called `output` in-place so we do not destroy our original image.\n",
    "\n",
    "Since we are using OpenCV’s functions rather than NumPy operations ***we can supply our coordinates in `(x, y)` order rather than `(y, x)`*** since we are not manipulating or accessing the NumPy array directly — OpenCV is taking care of that for us."
   ]
  },
  {
   "cell_type": "code",
   "execution_count": 22,
   "metadata": {},
   "outputs": [],
   "source": [
    "## Let's draw a rectangle\n",
    "# draw a 2px thick red rectangle surrounding the face\n",
    "output = image.copy()\n",
    "cv2.rectangle(output, (320, 60), (420, 160), (0, 0, 255), 2)\n",
    "show(output)"
   ]
  },
  {
   "cell_type": "markdown",
   "metadata": {},
   "source": [
    "Drawing rectangles in OpenCV couldn’t be any easier. Using pre-calculated coordinates, I’ve supplied the following parameters to the `cv2.rectangle`\n",
    "\n",
    "* `img`: The destination image to draw upon. We’re drawing on `output`.\n",
    "* `pt1`: Our starting pixel coordinate which is the top-left. In our case, the top-left is `(320, 60)`.\n",
    "* `pt2`: The ending pixel — bottom-right. The bottom-right pixel is located at `(420, 160)`.\n",
    "* `color`: BGR tuple. To represent red, I’ve supplied `(0 , 0, 255)`.\n",
    "* `thickness`: Line thickness (a negative value will make a solid rectangle). I’ve supplied a thickness of `2` .\n",
    "\n"
   ]
  },
  {
   "cell_type": "code",
   "execution_count": 23,
   "metadata": {},
   "outputs": [],
   "source": [
    "# draw a blue 20px (filled in) circle on the image centered at\n",
    "# x = 300, y = 150\n",
    "\n",
    "output = image.copy()\n",
    "cv2.circle(output, (300, 150), 20, (255, 0, 0), -1)\n",
    "show(output)"
   ]
  },
  {
   "cell_type": "markdown",
   "metadata": {},
   "source": [
    "To draw a circle, you need to supply following parameters to `cv2.circle` :\n",
    "\n",
    "* `img`: The output image.\n",
    "* `center`: Our circle’s center coordinate. I supplied `(300, 150)`  which is right in front of Ellie’s eyes.\n",
    "* `radius`: The circle radius in pixels. I provided a value of `20`  pixels.\n",
    "* `color`: Circle color. This time I went with blue as is denoted by 255 in the B and 0s in the G + R components of the BGR tuple, `(255, 0, 0)` .\n",
    "* `thickness`: The line thickness. Since I supplied a negative value `(-1 )`, the circle is solid/filled in."
   ]
  },
  {
   "cell_type": "code",
   "execution_count": 27,
   "metadata": {},
   "outputs": [],
   "source": [
    "# draw a 5px thick line from x=60, y=20 to x=400, y=200\n",
    "\n",
    "output = image.copy()\n",
    "cv2.line(output, (60, 20), (400, 200), (0, 0, 255), 5)\n",
    "show(output)"
   ]
  },
  {
   "cell_type": "markdown",
   "metadata": {},
   "source": [
    "Just as in a rectangle, we supply two points, a color, and a line thickness. OpenCV’s backend does the rest."
   ]
  },
  {
   "cell_type": "markdown",
   "metadata": {},
   "source": [
    "## Writing Text\n",
    "\n",
    "Oftentimes you’ll find that you want to overlay text on an image for display purposes. If you’re working on face recognition you’ll likely want to draw the person’s name above their face. Or if you advance in your computer vision career you may build an image classifier or object detector. In these cases, you’ll find that you want to draw text containing the class name and probability.\n",
    "\n",
    "Let’s see how OpenCV’s `putText()` function works:"
   ]
  },
  {
   "cell_type": "code",
   "execution_count": 33,
   "metadata": {},
   "outputs": [],
   "source": [
    "## Writing Text\n",
    "\n",
    "# draw green text on the image \n",
    "\n",
    "output = image.copy()\n",
    "cv2.putText(output, \"OpenCV + Jurassic Park!!!\", (10, 25),\n",
    "           cv2.FONT_HERSHEY_SIMPLEX, 0.7, (0, 255, 0), 2)\n",
    "show(output)"
   ]
  },
  {
   "cell_type": "markdown",
   "metadata": {},
   "source": [
    "The `putText`  function of OpenCV is responsible for drawing text on an image. Let’s take a look at the required parameters:\n",
    "\n",
    "* `img` : The output image.\n",
    "* `text` : The string of text we’d like to write/draw on the image.\n",
    "* `pt` : The starting point for the text.\n",
    "* `font`: uses the `cv2.FONT_HERSHEY_SIMPLEX`.You can see the available `fonts` by pressing `Tab` key while writing font.\n",
    "* `scale`: Font size multiplier.\n",
    "* `color`: Text Color.\n",
    "* `thickness`: The thickness of the stroke in pixels.\n"
   ]
  },
  {
   "cell_type": "markdown",
   "metadata": {},
   "source": [
    "## `Continue in Part-2` !"
   ]
  }
 ],
 "metadata": {
  "kernelspec": {
   "display_name": "Python 3",
   "language": "python",
   "name": "python3"
  },
  "language_info": {
   "codemirror_mode": {
    "name": "ipython",
    "version": 3
   },
   "file_extension": ".py",
   "mimetype": "text/x-python",
   "name": "python",
   "nbconvert_exporter": "python",
   "pygments_lexer": "ipython3",
   "version": "3.6.6"
  }
 },
 "nbformat": 4,
 "nbformat_minor": 2
}
